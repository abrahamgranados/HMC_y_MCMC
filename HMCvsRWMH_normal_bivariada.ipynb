{
  "nbformat": 4,
  "nbformat_minor": 0,
  "metadata": {
    "colab": {
      "name": "nov_bivariadas.ipynb",
      "provenance": [],
      "collapsed_sections": []
    },
    "kernelspec": {
      "name": "python3",
      "display_name": "Python 3"
    }
  },
  "cells": [
    {
      "cell_type": "code",
      "metadata": {
        "id": "k8JEs2Px5Zzo"
      },
      "source": [
        " #RANDOM WALK METROPOLIS HASTINGS \n",
        " \n",
        "import numpy as np\n",
        "import random\n",
        "import math\n",
        "import matplotlib.pyplot as plt\n",
        "import seaborn as sns\n",
        "import scipy.stats as ss\n",
        "from scipy.stats import multivariate_normal\n",
        "\n",
        "from google.colab import files"
      ],
      "execution_count": null,
      "outputs": []
    },
    {
      "cell_type": "code",
      "metadata": {
        "id": "s4G6DX4Gmfi9"
      },
      "source": [
        "def HMCMC(U, grad_U, epsilon, L, inicial_q, N):\n",
        "  #En el primer paso nuevos valores son  escogidos para el momentum, p, aleatoriamente de una distribución normal, y son independientes de la posición q. \n",
        "  mu, sigma = 0, 1 # Parametros de la normal\n",
        "  \n",
        "  q = inicial_q #El punto de inicio del algoritmo\n",
        "  cadena=q\n",
        "  rechazos=0\n",
        "\n",
        "  for i in range(1,N): \n",
        "\n",
        "    p = np.array([np.random.normal(mu, sigma, q.shape[1])])  #Asignamos el nuevo valor de p, independiente de q\n",
        "\n",
        "    actual_p = p  \n",
        "    p=p- epsilon * grad_U(q) / 2\n",
        "    for i in range(1,L+1):\n",
        "      q= q+epsilon*p\n",
        "      if(i!=L):\n",
        "        p=p-epsilon*grad_U(q)\n",
        "    p= p - epsilon * grad_U(q) / 2   ##termina el algoritmo de Leap Frog \n",
        "  # Hacemos la propuesta simétrica cambiando el signo \n",
        "    p = -p\n",
        "    actual_U = U(inicial_q)\n",
        "    actual_K = np.sum(actual_p**2) / 2\n",
        "    propuesta_U = U(q)\n",
        "    propuesta_K = np.sum(p**2) / 2\n",
        "    if random.uniform(0, 1) < np.exp(actual_U-propuesta_U+actual_K-propuesta_K):\n",
        "      cadena=np.r_[cadena,q]\n",
        "      inicial_q=q\n",
        "\n",
        "    else:\n",
        "      cadena=np.r_[cadena,inicial_q]\n",
        "      rechazos=rechazos+1\n",
        "  return(cadena, rechazos)\n"
      ],
      "execution_count": null,
      "outputs": []
    },
    {
      "cell_type": "code",
      "metadata": {
        "id": "2CrMEF59aKru"
      },
      "source": [
        "sigma_bivariada=np.array([[1,-0.85],[-0.85,1]])\n",
        "sigma_bivariada_inv=np.linalg.inv(sigma_bivariada)\n",
        "def U(q):\n",
        "  return(1/2*q.dot( sigma_bivariada_inv ).dot(np.transpose(q))[0][0])    #El logaritmo de la densidad que queremos simular, U(q) hacer referencia a la funcion de energía potencial \n",
        "\n",
        "def grad_U(q):   #El gradiente de la función U, que se utilizará para resolver el sistema de ecuaciones dado por las dinámicas hamiltonianas\n",
        " return(np.transpose(sigma_bivariada_inv.dot(np.transpose(q))))\n"
      ],
      "execution_count": null,
      "outputs": []
    },
    {
      "cell_type": "markdown",
      "metadata": {
        "id": "oHlyWBrIEohG"
      },
      "source": [
        "#epsilon 0.15, L=35, N=30"
      ]
    },
    {
      "cell_type": "code",
      "metadata": {
        "id": "CFNuWUGPaQwX",
        "colab": {
          "base_uri": "https://localhost:8080/"
        },
        "outputId": "458e7bc3-aecb-4ddf-b2a7-90eb6586bee8"
      },
      "source": [
        "np.random.seed(0)\n",
        "random.seed(0)\n",
        "simulacion=HMCMC(U,grad_U,0.15,35,np.array([[-7,-7]]),30)\n",
        "cadena_bruta= simulacion[0]\n",
        "tasa_rechazo= simulacion[1]/(cadena_bruta.shape[0]-1)\n",
        "tasa_aceptacion = 1- tasa_rechazo\n",
        "tasa_aceptacion"
      ],
      "execution_count": null,
      "outputs": [
        {
          "output_type": "execute_result",
          "data": {
            "text/plain": [
              "1.0"
            ]
          },
          "metadata": {
            "tags": []
          },
          "execution_count": 6
        }
      ]
    },
    {
      "cell_type": "code",
      "metadata": {
        "id": "-2ugM-nobGhJ",
        "colab": {
          "base_uri": "https://localhost:8080/",
          "height": 298
        },
        "outputId": "12ac2dc6-8221-4629-d3e4-3c5d6391929b"
      },
      "source": [
        "\n",
        "x, y = np.mgrid[-8.3:3.8:.2, -8.3:3.8:.2]\n",
        "pos = np.dstack((x, y))\n",
        "rv = multivariate_normal([0, 0], [[1, -0.85], [-0.85, 1]])\n",
        "fig2 = plt.figure()\n",
        "ax2 = fig2.add_subplot(111)\n",
        "ax2.contourf(x, y, rv.pdf(pos), 10)\n",
        "plt.plot(cadena_bruta[:,0], cadena_bruta[:,1], '.', c='red')\n",
        "plt.plot(cadena_bruta[:,0], cadena_bruta[:,1], \"r\")\n",
        "\n",
        "plt.ylabel(r'$q_{2}$')\n",
        "plt.xlabel(r'$q_{1}$')\n",
        "plt.gca().axes.yaxis.set_ticklabels([])\n",
        "\n",
        "#plt.savefig(\"biv_ham.png\",bbox_inches='tight',dpi=300)\n",
        "#files.download(\"biv_ham.png\")"
      ],
      "execution_count": null,
      "outputs": [
        {
          "output_type": "execute_result",
          "data": {
            "text/plain": [
              "[]"
            ]
          },
          "metadata": {
            "tags": []
          },
          "execution_count": 7
        },
        {
          "output_type": "display_data",
          "data": {
            "image/png": "[encoded data removed]",
            "text/plain": [
              "<Figure size 432x288 with 1 Axes>"
            ]
          },
          "metadata": {
            "tags": [],
            "needs_background": "light"
          }
        }
      ]
    },
    {
      "cell_type": "markdown",
      "metadata": {
        "id": "V3zGq3RJB1dk"
      },
      "source": [
        "#RWMH"
      ]
    },
    {
      "cell_type": "code",
      "metadata": {
        "id": "t4KOF8bhB5Ff"
      },
      "source": [
        "sigma_bivariada=np.array([[1,-0.85],[-0.85,1]])\n",
        "\n",
        "def U(q):\n",
        "  return(np.exp(-1/2*q.dot(np.linalg.inv(sigma_bivariada)).dot(np.transpose(q))[0][0]))    #El logaritmo de la densidad que queremos simular, U(q) hacer referencia a la funcion de energía potencial \n",
        "\n",
        "def RWMH(p_ini, densidad, mu, sigma, N):\n",
        "  contador=0     #vector de muestras\n",
        "  muestra=p_ini        #primera posición nuestro punto inicial\n",
        "  for i in range(1, N):           \n",
        "    propuesta=p_ini+np.random.normal(mu, sigma, p_ini.shape[1])    #el valor propuesto \n",
        "    #razon = min(densidad(propuesta)/densidad(p_ini),1)\n",
        "    razon = min(densidad(propuesta)/densidad(p_ini),1)\n",
        "    if random.uniform(0, 1) < razon:\n",
        "      actual=propuesta\n",
        "      p_ini=propuesta\n",
        "      \n",
        "    else:\n",
        "      actual=p_ini\n",
        "      contador=contador+1\n",
        "    muestra=np.r_[muestra,actual]\n",
        "  #uno es el punto inicial y en la ultima posicion esta el porcentaje\n",
        "  return(muestra, contador)\n"
      ],
      "execution_count": null,
      "outputs": []
    },
    {
      "cell_type": "code",
      "metadata": {
        "id": "NkAafp9WD_cH"
      },
      "source": [
        "np.random.seed(0)\n",
        "random.seed(0)\n",
        "muestra=RWMH(np.array([[-7,-7]]),U,0,0.15, 30*35)\n"
      ],
      "execution_count": null,
      "outputs": []
    },
    {
      "cell_type": "code",
      "metadata": {
        "colab": {
          "base_uri": "https://localhost:8080/"
        },
        "id": "2wJXs88aSEfK",
        "outputId": "967b7070-baa5-49b4-e431-c81857b37c88"
      },
      "source": [
        "tasa_rechazo2= muestra[1]/(muestra[0].shape[0]-1)\r\n",
        "tasa_aceptacion2 = 1- tasa_rechazo2\r\n",
        "tasa_aceptacion2"
      ],
      "execution_count": null,
      "outputs": [
        {
          "output_type": "execute_result",
          "data": {
            "text/plain": [
              "0.8303145853193518"
            ]
          },
          "metadata": {
            "tags": []
          },
          "execution_count": 10
        }
      ]
    },
    {
      "cell_type": "code",
      "metadata": {
        "id": "ZVMFElmSFL5x",
        "colab": {
          "base_uri": "https://localhost:8080/"
        },
        "outputId": "e4f88b67-83a7-4e5d-8fa7-d74173aeb78f"
      },
      "source": [
        "simulaciones2=muestra[0]\n",
        "simulacion2= simulaciones2[np.arange(0,len(simulaciones2),35)]\n",
        "len(simulacion2)"
      ],
      "execution_count": null,
      "outputs": [
        {
          "output_type": "execute_result",
          "data": {
            "text/plain": [
              "30"
            ]
          },
          "metadata": {
            "tags": []
          },
          "execution_count": 47
        }
      ]
    },
    {
      "cell_type": "code",
      "metadata": {
        "id": "5w-2cv8CF4Bl",
        "colab": {
          "base_uri": "https://localhost:8080/",
          "height": 281
        },
        "outputId": "f17bb8c6-3bc9-4e6f-dfd4-708c14da9667"
      },
      "source": [
        "\n",
        "x, y = np.mgrid[-8.3:3.8:.2, -8.3:3.8:.2]\n",
        "pos = np.dstack((x, y))\n",
        "rv = multivariate_normal([0, 0], [[1, -0.85], [-0.85, 1]])\n",
        "fig2 = plt.figure()\n",
        "ax2 = fig2.add_subplot(111)\n",
        "ax2.contourf(x, y, rv.pdf(pos), 10)\n",
        "plt.plot(simulacion2[:,0],simulacion2[:,1], '.', c='red')\n",
        "plt.plot(simulacion2[:,0], simulacion2[:,1], \"r\")\n",
        "\n",
        "plt.ylabel(r'$q_{2}$')\n",
        "plt.xlabel(r'$q_{1}$')\n",
        "\n",
        "plt.savefig(\"biv_rwmh.png\",bbox_inches='tight',dpi=300)\n",
        "files.download(\"biv_rwmh.png\")"
      ],
      "execution_count": null,
      "outputs": [
        {
          "output_type": "display_data",
          "data": {
            "application/javascript": [
              "\n",
              "    async function download(id, filename, size) {\n",
              "      if (!google.colab.kernel.accessAllowed) {\n",
              "        return;\n",
              "      }\n",
              "      const div = document.createElement('div');\n",
              "      const label = document.createElement('label');\n",
              "      label.textContent = `Downloading \"${filename}\": `;\n",
              "      div.appendChild(label);\n",
              "      const progress = document.createElement('progress');\n",
              "      progress.max = size;\n",
              "      div.appendChild(progress);\n",
              "      document.body.appendChild(div);\n",
              "\n",
              "      const buffers = [];\n",
              "      let downloaded = 0;\n",
              "\n",
              "      const channel = await google.colab.kernel.comms.open(id);\n",
              "      // Send a message to notify the kernel that we're ready.\n",
              "      channel.send({})\n",
              "\n",
              "      for await (const message of channel.messages) {\n",
              "        // Send a message to notify the kernel that we're ready.\n",
              "        channel.send({})\n",
              "        if (message.buffers) {\n",
              "          for (const buffer of message.buffers) {\n",
              "            buffers.push(buffer);\n",
              "            downloaded += buffer.byteLength;\n",
              "            progress.value = downloaded;\n",
              "          }\n",
              "        }\n",
              "      }\n",
              "      const blob = new Blob(buffers, {type: 'application/binary'});\n",
              "      const a = document.createElement('a');\n",
              "      a.href = window.URL.createObjectURL(blob);\n",
              "      a.download = filename;\n",
              "      div.appendChild(a);\n",
              "      a.click();\n",
              "      div.remove();\n",
              "    }\n",
              "  "
            ],
            "text/plain": [
              "<IPython.core.display.Javascript object>"
            ]
          },
          "metadata": {
            "tags": []
          }
        },
        {
          "output_type": "display_data",
          "data": {
            "application/javascript": [
              "download(\"download_75496516-1f55-4674-a249-7809f0cee5e8\", \"biv_rwmh.png\", 65909)"
            ],
            "text/plain": [
              "<IPython.core.display.Javascript object>"
            ]
          },
          "metadata": {
            "tags": []
          }
        },
        {
          "output_type": "display_data",
          "data": {
            "image/png": "[encoded data removed]",
            "text/plain": [
              "<Figure size 432x288 with 1 Axes>"
            ]
          },
          "metadata": {
            "tags": [],
            "needs_background": "light"
          }
        }
      ]
    }
  ]
}