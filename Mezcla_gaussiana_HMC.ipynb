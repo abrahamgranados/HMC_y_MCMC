{
  "nbformat": 4,
  "nbformat_minor": 0,
  "metadata": {
    "colab": {
      "name": "SIVA_mezclas.ipynb",
      "provenance": [],
      "collapsed_sections": []
    },
    "kernelspec": {
      "name": "python3",
      "display_name": "Python 3"
    }
  },
  "cells": [
    {
      "cell_type": "code",
      "metadata": {
        "id": "k8JEs2Px5Zzo"
      },
      "source": [
        "import numpy as np\n",
        "import random\n",
        "import math\n",
        "import matplotlib.pyplot as plt\n",
        "\n",
        "import scipy.stats as ss\n",
        "from scipy.stats import multivariate_normal\n",
        "\n",
        "from google.colab import files\n",
        "import time"
      ],
      "execution_count": null,
      "outputs": []
    },
    {
      "cell_type": "code",
      "metadata": {
        "id": "LD00WXQunujt",
        "colab": {
          "base_uri": "https://localhost:8080/",
          "height": 223
        },
        "outputId": "ca6b54a7-c4db-49ff-8516-be4dd01c6630"
      },
      "source": [
        "\n",
        "media1= [-4, -4]\n",
        "media2=[5, 5]\n",
        "SIGMA1=  [[1, 0.5], [0.5, 1]]\n",
        "SIGMA2= [[1, -0.3], [-0.3, 1]]\n",
        "\n",
        "SIGMA1_INV=np.linalg.inv(SIGMA1)\n",
        "SIGMA2_INV=np.linalg.inv(SIGMA2)\n",
        "\n",
        "def mezcla_bivariada(q):\n",
        " return(multivariate_normal(media1, SIGMA1).pdf(q) * 0.4  +  0.6 * multivariate_normal(media2, SIGMA2).pdf(q) )\n",
        "def U(q):\n",
        " return(-np.log(mezcla_bivariada(q)))\n",
        "def grad_norm_vib(q,media, desv,inversa): \n",
        " return(-multivariate_normal(media, desv).pdf(q)*np.transpose(inversa.dot(np.transpose(q-media))))\n",
        "def grad_U(q): \n",
        " return((0.4* grad_norm_vib(q,media1, SIGMA1, SIGMA1_INV) + 0.6*grad_norm_vib(q,media2, SIGMA2,SIGMA2_INV))/-mezcla_bivariada(q))"
      ],
      "execution_count": null,
      "outputs": [
        {
          "output_type": "error",
          "ename": "NameError",
          "evalue": "ignored",
          "traceback": [
            "\u001b[0;31m---------------------------------------------------------------------------\u001b[0m",
            "\u001b[0;31mNameError\u001b[0m                                 Traceback (most recent call last)",
            "\u001b[0;32m<ipython-input-1-72a9ab9602de>\u001b[0m in \u001b[0;36m<module>\u001b[0;34m()\u001b[0m\n\u001b[1;32m      5\u001b[0m \u001b[0mSIGMA2\u001b[0m\u001b[0;34m=\u001b[0m \u001b[0;34m[\u001b[0m\u001b[0;34m[\u001b[0m\u001b[0;36m1\u001b[0m\u001b[0;34m,\u001b[0m \u001b[0;34m-\u001b[0m\u001b[0;36m0.3\u001b[0m\u001b[0;34m]\u001b[0m\u001b[0;34m,\u001b[0m \u001b[0;34m[\u001b[0m\u001b[0;34m-\u001b[0m\u001b[0;36m0.3\u001b[0m\u001b[0;34m,\u001b[0m \u001b[0;36m1\u001b[0m\u001b[0;34m]\u001b[0m\u001b[0;34m]\u001b[0m\u001b[0;34m\u001b[0m\u001b[0;34m\u001b[0m\u001b[0m\n\u001b[1;32m      6\u001b[0m \u001b[0;34m\u001b[0m\u001b[0m\n\u001b[0;32m----> 7\u001b[0;31m \u001b[0mSIGMA1_INV\u001b[0m\u001b[0;34m=\u001b[0m\u001b[0mnp\u001b[0m\u001b[0;34m.\u001b[0m\u001b[0mlinalg\u001b[0m\u001b[0;34m.\u001b[0m\u001b[0minv\u001b[0m\u001b[0;34m(\u001b[0m\u001b[0mSIGMA1\u001b[0m\u001b[0;34m)\u001b[0m\u001b[0;34m\u001b[0m\u001b[0;34m\u001b[0m\u001b[0m\n\u001b[0m\u001b[1;32m      8\u001b[0m \u001b[0mSIGMA2_INV\u001b[0m\u001b[0;34m=\u001b[0m\u001b[0mnp\u001b[0m\u001b[0;34m.\u001b[0m\u001b[0mlinalg\u001b[0m\u001b[0;34m.\u001b[0m\u001b[0minv\u001b[0m\u001b[0;34m(\u001b[0m\u001b[0mSIGMA2\u001b[0m\u001b[0;34m)\u001b[0m\u001b[0;34m\u001b[0m\u001b[0;34m\u001b[0m\u001b[0m\n\u001b[1;32m      9\u001b[0m \u001b[0;34m\u001b[0m\u001b[0m\n",
            "\u001b[0;31mNameError\u001b[0m: name 'np' is not defined"
          ]
        }
      ]
    },
    {
      "cell_type": "code",
      "metadata": {
        "id": "OXZAVBWpX4Yh"
      },
      "source": [
        "def HMCMC(U, grad_U, epsilon, L, inicial_q, N):\n",
        "  #En el primer paso nuevos valores son  escogidos para el momentum, p, aleatoriamente de una distribución normal, y son independientes de la posición q. \n",
        "  mu, sigma = 0, 1 # Parametros de la normal\n",
        "  \n",
        "  q = inicial_q #El punto de inicio del algoritmo\n",
        "  cadena=q\n",
        "  rechazos=0\n",
        "  for i in range(1,N): \n",
        "    p = np.array([np.random.normal(mu, sigma, q.shape[1])])  #Asignamos el nuevo valor de p, independiente de q\n",
        "    actual_p = p  \n",
        "    for i in range(1,L+1):\n",
        "      q= q+epsilon*p\n",
        "  #paso completo para el momento excepto en la ultima\n",
        "      if(i!=L):\n",
        "        p=p-epsilon*grad_U(q)\n",
        "\n",
        "    p= p - epsilon * grad_U(q) / 2   ##termina el algoritmo de Leap Frog \n",
        "  # Hacemos la propuesta simétrica cambiando el signo \n",
        "    p = -p\n",
        "    actual_U = U(inicial_q)\n",
        "    actual_K = np.sum(actual_p**2) / 2\n",
        "    propuesta_U = U(q)\n",
        "    propuesta_K = np.sum(p**2) / 2\n",
        "\n",
        "    if random.uniform(0, 1) < np.exp(actual_U-propuesta_U+actual_K-propuesta_K):\n",
        "      cadena=np.r_[cadena,q]\n",
        "      inicial_q=q\n",
        "\n",
        "    else:\n",
        "      cadena=np.r_[cadena,inicial_q]\n",
        "      rechazos=rechazos+1\n",
        "  return(cadena, rechazos)\n"
      ],
      "execution_count": null,
      "outputs": []
    },
    {
      "cell_type": "markdown",
      "metadata": {
        "id": "hr0uPAxx8Gui"
      },
      "source": [
        "#Punto inicial (-9,-9)"
      ]
    },
    {
      "cell_type": "code",
      "metadata": {
        "id": "pJVPEm0OmDwQ"
      },
      "source": [
        "q=np.array([[-9,-9]])\n",
        "np.random.seed(0)\n",
        "random.seed(0)\n",
        "t0_HMC = time.time()\n",
        "muestra_h=HMCMC(U,grad_U,0.2,30,q, 5000) \n",
        "t1_HMC = time.time()\n",
        "print(\"--- %s segundos ---\" % (t1_HMC- t0_HMC))"
      ],
      "execution_count": null,
      "outputs": []
    },
    {
      "cell_type": "code",
      "metadata": {
        "colab": {
          "base_uri": "https://localhost:8080/"
        },
        "id": "UKRVKRJKZKhd",
        "outputId": "98683e83-0404-4c8b-fc52-49c89567a501"
      },
      "source": [
        "tasa_rechazo= muestra_h[1]/(muestra_h[0].shape[0]-1)\r\n",
        "tasa_aceptacion = 1- tasa_rechazo\r\n",
        "tasa_aceptacion"
      ],
      "execution_count": null,
      "outputs": [
        {
          "output_type": "execute_result",
          "data": {
            "text/plain": [
              "0.9387877575515103"
            ]
          },
          "metadata": {
            "tags": []
          },
          "execution_count": 5
        }
      ]
    },
    {
      "cell_type": "code",
      "metadata": {
        "id": "dMl0Hcp_MkNk"
      },
      "source": [
        "muestra_th=muestra_h[0]"
      ],
      "execution_count": null,
      "outputs": []
    },
    {
      "cell_type": "code",
      "metadata": {
        "id": "wEyefxhARbIV"
      },
      "source": [
        "q1=muestra_th[:,0]\n",
        "q2=muestra_th[:,1]"
      ],
      "execution_count": null,
      "outputs": []
    },
    {
      "cell_type": "code",
      "metadata": {
        "id": "wpCGD0H6MUCN",
        "colab": {
          "base_uri": "https://localhost:8080/",
          "height": 281
        },
        "outputId": "9f39d6c6-fdf8-4a23-92ab-c27c895852f8"
      },
      "source": [
        "x, y = np.mgrid[-10:10:.3, -10:10:.3]\n",
        "pos = np.dstack((x, y))\n",
        "\n",
        "fig2 = plt.figure()\n",
        "ax2 = fig2.add_subplot(111)\n",
        "ax2.contourf(x, y, mezcla_bivariada(pos), 10)\n",
        "plt.plot(q1, q2, 'o', c='red', alpha=0.3)\n",
        "plt.xlabel(r'$q_{1}$')\n",
        "plt.gca().axes.yaxis.set_ticklabels([])\n",
        "plt.savefig(\"mezclah1.png\",bbox_inches='tight',dpi=300)\n",
        "files.download(\"mezclah1.png\")\n",
        "#plt.plot(q1, q2, \"r\")"
      ],
      "execution_count": null,
      "outputs": [
        {
          "output_type": "display_data",
          "data": {
            "application/javascript": [
              "\n",
              "    async function download(id, filename, size) {\n",
              "      if (!google.colab.kernel.accessAllowed) {\n",
              "        return;\n",
              "      }\n",
              "      const div = document.createElement('div');\n",
              "      const label = document.createElement('label');\n",
              "      label.textContent = `Downloading \"${filename}\": `;\n",
              "      div.appendChild(label);\n",
              "      const progress = document.createElement('progress');\n",
              "      progress.max = size;\n",
              "      div.appendChild(progress);\n",
              "      document.body.appendChild(div);\n",
              "\n",
              "      const buffers = [];\n",
              "      let downloaded = 0;\n",
              "\n",
              "      const channel = await google.colab.kernel.comms.open(id);\n",
              "      // Send a message to notify the kernel that we're ready.\n",
              "      channel.send({})\n",
              "\n",
              "      for await (const message of channel.messages) {\n",
              "        // Send a message to notify the kernel that we're ready.\n",
              "        channel.send({})\n",
              "        if (message.buffers) {\n",
              "          for (const buffer of message.buffers) {\n",
              "            buffers.push(buffer);\n",
              "            downloaded += buffer.byteLength;\n",
              "            progress.value = downloaded;\n",
              "          }\n",
              "        }\n",
              "      }\n",
              "      const blob = new Blob(buffers, {type: 'application/binary'});\n",
              "      const a = document.createElement('a');\n",
              "      a.href = window.URL.createObjectURL(blob);\n",
              "      a.download = filename;\n",
              "      div.appendChild(a);\n",
              "      a.click();\n",
              "      div.remove();\n",
              "    }\n",
              "  "
            ],
            "text/plain": [
              "<IPython.core.display.Javascript object>"
            ]
          },
          "metadata": {
            "tags": []
          }
        },
        {
          "output_type": "display_data",
          "data": {
            "application/javascript": [
              "download(\"download_b5cfd99d-8e04-4c16-84d5-e2cc7b6e6177\", \"mezclah1.png\", 107111)"
            ],
            "text/plain": [
              "<IPython.core.display.Javascript object>"
            ]
          },
          "metadata": {
            "tags": []
          }
        },
        {
          "output_type": "display_data",
          "data": {
            "image/png": "[encoded data removed]",
            "text/plain": [
              "<Figure size 432x288 with 1 Axes>"
            ]
          },
          "metadata": {
            "tags": [],
            "needs_background": "light"
          }
        }
      ]
    },
    {
      "cell_type": "markdown",
      "metadata": {
        "id": "lCDq2aO8hXRj"
      },
      "source": [
        "#Punto inicial (2.5,2.5)"
      ]
    },
    {
      "cell_type": "code",
      "metadata": {
        "id": "ytz-K065hVvs",
        "colab": {
          "base_uri": "https://localhost:8080/"
        },
        "outputId": "f1e4b8ed-aba0-418c-f455-05d5abd62772"
      },
      "source": [
        "q_inicial2=np.array([[2.5,2.5]])\n",
        "np.random.seed(0)\n",
        "random.seed(0)\n",
        "t2_HMC = time.time()\n",
        "muestra_h2=HMCMC(U,grad_U,0.2,30,q_inicial2, 5000) \n",
        "t3_HMC = time.time()\n",
        "print(\"--- %s segundos ---\" % (t3_HMC- t2_HMC))"
      ],
      "execution_count": null,
      "outputs": [
        {
          "output_type": "stream",
          "text": [
            "--- 120.66342854499817 segundos ---\n"
          ],
          "name": "stdout"
        }
      ]
    },
    {
      "cell_type": "code",
      "metadata": {
        "id": "1HMvDwHZhVwk",
        "colab": {
          "base_uri": "https://localhost:8080/"
        },
        "outputId": "3453f7fd-890b-4c1d-89e3-a263369a65ed"
      },
      "source": [
        "\n",
        "tasa_rechazo2= muestra_h2[1]/(muestra_h2[0].shape[0]-1)\n",
        "tasa_aceptacion2 = 1- tasa_rechazo2\n",
        "tasa_aceptacion2"
      ],
      "execution_count": null,
      "outputs": [
        {
          "output_type": "execute_result",
          "data": {
            "text/plain": [
              "0.9149829965993199"
            ]
          },
          "metadata": {
            "tags": []
          },
          "execution_count": 21
        }
      ]
    },
    {
      "cell_type": "code",
      "metadata": {
        "id": "9bA2-v2shVwx"
      },
      "source": [
        "muestra_th2=muestra_h2[0]"
      ],
      "execution_count": null,
      "outputs": []
    },
    {
      "cell_type": "code",
      "metadata": {
        "id": "ZOGBvYHQhVxA"
      },
      "source": [
        "q1_2=muestra_th2[:,0]\n",
        "q2_2=muestra_th2[:,1]"
      ],
      "execution_count": null,
      "outputs": []
    },
    {
      "cell_type": "code",
      "metadata": {
        "id": "uhaJ_k1RhVxP",
        "colab": {
          "base_uri": "https://localhost:8080/",
          "height": 281
        },
        "outputId": "3f10e5ed-9e31-4540-f6ac-557936e5cc26"
      },
      "source": [
        "x, y = np.mgrid[-10:10:.3, -10:10:.3]\n",
        "pos = np.dstack((x, y))\n",
        "\n",
        "fig2 = plt.figure()\n",
        "ax2 = fig2.add_subplot(111)\n",
        "ax2.contourf(x, y, mezcla_bivariada(pos), 10)\n",
        "plt.plot(q1_2, q2_2, 'o', c='red', alpha=0.3)\n",
        "\n",
        "#plt.ylabel(r'$q_{2}$')\n",
        "plt.xlabel(r'$q_{1}$')\n",
        "plt.gca().axes.yaxis.set_ticklabels([])\n",
        "\n",
        "#plt.savefig(\"mezclah2.png\",bbox_inches='tight',dpi=300)\n",
        "#files.download(\"mezclah2.png\")"
      ],
      "execution_count": null,
      "outputs": [
        {
          "output_type": "display_data",
          "data": {
            "application/javascript": [
              "\n",
              "    async function download(id, filename, size) {\n",
              "      if (!google.colab.kernel.accessAllowed) {\n",
              "        return;\n",
              "      }\n",
              "      const div = document.createElement('div');\n",
              "      const label = document.createElement('label');\n",
              "      label.textContent = `Downloading \"${filename}\": `;\n",
              "      div.appendChild(label);\n",
              "      const progress = document.createElement('progress');\n",
              "      progress.max = size;\n",
              "      div.appendChild(progress);\n",
              "      document.body.appendChild(div);\n",
              "\n",
              "      const buffers = [];\n",
              "      let downloaded = 0;\n",
              "\n",
              "      const channel = await google.colab.kernel.comms.open(id);\n",
              "      // Send a message to notify the kernel that we're ready.\n",
              "      channel.send({})\n",
              "\n",
              "      for await (const message of channel.messages) {\n",
              "        // Send a message to notify the kernel that we're ready.\n",
              "        channel.send({})\n",
              "        if (message.buffers) {\n",
              "          for (const buffer of message.buffers) {\n",
              "            buffers.push(buffer);\n",
              "            downloaded += buffer.byteLength;\n",
              "            progress.value = downloaded;\n",
              "          }\n",
              "        }\n",
              "      }\n",
              "      const blob = new Blob(buffers, {type: 'application/binary'});\n",
              "      const a = document.createElement('a');\n",
              "      a.href = window.URL.createObjectURL(blob);\n",
              "      a.download = filename;\n",
              "      div.appendChild(a);\n",
              "      a.click();\n",
              "      div.remove();\n",
              "    }\n",
              "  "
            ],
            "text/plain": [
              "<IPython.core.display.Javascript object>"
            ]
          },
          "metadata": {
            "tags": []
          }
        },
        {
          "output_type": "display_data",
          "data": {
            "application/javascript": [
              "download(\"download_752fc3a6-7c3f-4b1c-89e6-f87f3e64a09b\", \"mezclah2.png\", 118980)"
            ],
            "text/plain": [
              "<IPython.core.display.Javascript object>"
            ]
          },
          "metadata": {
            "tags": []
          }
        },
        {
          "output_type": "display_data",
          "data": {
            "image/png": "[encoded data removed]",
            "text/plain": [
              "<Figure size 432x288 with 1 Axes>"
            ]
          },
          "metadata": {
            "tags": [],
            "needs_background": "light"
          }
        }
      ]
    },
    {
      "cell_type": "markdown",
      "metadata": {
        "id": "S9xtd8Ku-Gok"
      },
      "source": [
        "#RWMH"
      ]
    },
    {
      "cell_type": "code",
      "metadata": {
        "id": "ZUVg4JjsLT-o"
      },
      "source": [
        "\n",
        "def RWMH(p_ini, densidad, mu, sigma, N):\n",
        "  contador=0     #vector de muestras\n",
        "  muestra=p_ini        #primera posición nuestro punto inicial\n",
        "  for i in range(1, N):           \n",
        "    propuesta=p_ini+np.random.normal(mu, sigma, p_ini.shape[1])    #el valor propuesto \n",
        "    razon = min(densidad(propuesta)/densidad(p_ini),1)\n",
        "    if random.uniform(0, 1) < razon:\n",
        "      actual=propuesta\n",
        "      p_ini=propuesta\n",
        "      \n",
        "    else:\n",
        "      actual=p_ini\n",
        "      contador=contador+1\n",
        "    muestra=np.r_[muestra,actual]\n",
        "  return(muestra, contador)\n"
      ],
      "execution_count": null,
      "outputs": []
    },
    {
      "cell_type": "code",
      "metadata": {
        "id": "O_WnJhvhL320"
      },
      "source": [
        "media1= [-4, -4]\n",
        "media2=[5, 5]\n",
        "\n",
        "SIGMA1=  [[1, 0.5], [0.5, 1]]\n",
        "SIGMA2= [[1, -0.3], [-0.3, 1]]\n",
        "\n",
        "def mezcla_bivariada(q):\n",
        " return(multivariate_normal(media1, SIGMA1).pdf(q) * 0.4  +  0.6 * multivariate_normal(media2, SIGMA2).pdf(q))"
      ],
      "execution_count": null,
      "outputs": []
    },
    {
      "cell_type": "markdown",
      "metadata": {
        "id": "mwuE72J6-19O"
      },
      "source": [
        "#Punto inicial (-9,-9)"
      ]
    },
    {
      "cell_type": "code",
      "metadata": {
        "id": "pjkOTmYAMDuC",
        "colab": {
          "base_uri": "https://localhost:8080/"
        },
        "outputId": "423e6a08-287b-41a1-9d83-73b98f6c7b05"
      },
      "source": [
        "q=np.array([[-9,-9]])\n",
        "np.random.seed(0)\n",
        "random.seed(0)\n",
        "t0_RWMH = time.time()\n",
        "muestra=RWMH(q,mezcla_bivariada,0,0.2, 5000*30)\n",
        "t1_RWMH = time.time()\n",
        "print(\"--- %s segundos ---\" % (t1_RWMH- t0_RWMH))"
      ],
      "execution_count": null,
      "outputs": [
        {
          "output_type": "stream",
          "text": [
            "--- 171.41742825508118 segundos ---\n"
          ],
          "name": "stdout"
        }
      ]
    },
    {
      "cell_type": "code",
      "metadata": {
        "colab": {
          "base_uri": "https://localhost:8080/"
        },
        "id": "LXq4qycSiPCV",
        "outputId": "8eac3199-00b9-46bb-b3ad-a2879d495dfc"
      },
      "source": [
        "\r\n",
        "tasa_rechazo= muestra[1]/(muestra[0].shape[0]-1)\r\n",
        "tasa_aceptacion = 1- tasa_rechazo\r\n",
        "tasa_aceptacion"
      ],
      "execution_count": null,
      "outputs": [
        {
          "output_type": "execute_result",
          "data": {
            "text/plain": [
              "0.8890659271061807"
            ]
          },
          "metadata": {
            "tags": []
          },
          "execution_count": 8
        }
      ]
    },
    {
      "cell_type": "code",
      "metadata": {
        "id": "MnE_o2qpj2NT"
      },
      "source": [
        "muestra_t=muestra[0]"
      ],
      "execution_count": null,
      "outputs": []
    },
    {
      "cell_type": "code",
      "metadata": {
        "id": "8FZZz8Jmj2NU"
      },
      "source": [
        "q1=muestra_t[:,0][np.arange(0,len(muestra_t[:,0]),35)]\n",
        "q2=muestra_t[:,1][np.arange(0,len(muestra_t[:,0]),35)]"
      ],
      "execution_count": null,
      "outputs": []
    },
    {
      "cell_type": "code",
      "metadata": {
        "colab": {
          "base_uri": "https://localhost:8080/",
          "height": 298
        },
        "id": "PdxACWP-j2NU",
        "outputId": "dfc7c2bf-8042-44b2-8a1f-879f0e1deea4"
      },
      "source": [
        "x, y = np.mgrid[-10:10:.2, -10:10:.2]\n",
        "pos = np.dstack((x, y))\n",
        "\n",
        "fig2 = plt.figure()\n",
        "ax2 = fig2.add_subplot(111)\n",
        "ax2.contourf(x, y, mezcla_bivariada(pos), 10)\n",
        "plt.plot(q1, q2, 'o', c='red', alpha=0.3)\n",
        "plt.ylabel(r'$q_{2}$')\n",
        "plt.xlabel(r'$q_{1}$')\n",
        "\n",
        "#plt.savefig(\"mezclarw1.png\",bbox_inches='tight',dpi=300)\n",
        "#files.download(\"mezclarw1.png\")\n",
        "\n",
        "#plt.plot(q1, q2, \"r\")"
      ],
      "execution_count": null,
      "outputs": [
        {
          "output_type": "execute_result",
          "data": {
            "text/plain": [
              "Text(0.5, 0, '$q_{1}$')"
            ]
          },
          "metadata": {
            "tags": []
          },
          "execution_count": 11
        },
        {
          "output_type": "display_data",
          "data": {
            "image/png": "[encoded data removed]",
            "text/plain": [
              "<Figure size 432x288 with 1 Axes>"
            ]
          },
          "metadata": {
            "tags": [],
            "needs_background": "light"
          }
        }
      ]
    },
    {
      "cell_type": "markdown",
      "metadata": {
        "id": "K2dtySre-93L"
      },
      "source": [
        "#Punto inicial (2.5,2.5)"
      ]
    },
    {
      "cell_type": "code",
      "metadata": {
        "id": "UA5o76OEInjt",
        "colab": {
          "base_uri": "https://localhost:8080/"
        },
        "outputId": "151757c9-b583-4833-e695-423bdfbaec8f"
      },
      "source": [
        "q_se=np.array([[2.5,2.5]])\n",
        "np.random.seed(0)\n",
        "random.seed(0)\n",
        "t2_RWMH = time.time()\n",
        "muestra_se=RWMH(q_se,mezcla_bivariada,0,0.2, 5000*30)\n",
        "t3_RWMH = time.time()\n",
        "print(\"--- %s segundos ---\" % (t3_RWMH- t2_RWMH))"
      ],
      "execution_count": null,
      "outputs": [
        {
          "output_type": "stream",
          "text": [
            "--- 170.54541063308716 segundos ---\n"
          ],
          "name": "stdout"
        }
      ]
    },
    {
      "cell_type": "code",
      "metadata": {
        "colab": {
          "base_uri": "https://localhost:8080/"
        },
        "id": "6RqTZfZDigqH",
        "outputId": "64517479-68fa-45ac-8461-da3487f90730"
      },
      "source": [
        "tasa_rechazo2= muestra_se[1]/(muestra_se[0].shape[0]-1)\r\n",
        "tasa_aceptacion2 = 1- tasa_rechazo2\r\n",
        "tasa_aceptacion2"
      ],
      "execution_count": null,
      "outputs": [
        {
          "output_type": "execute_result",
          "data": {
            "text/plain": [
              "0.8995526636844245"
            ]
          },
          "metadata": {
            "tags": []
          },
          "execution_count": 41
        }
      ]
    },
    {
      "cell_type": "code",
      "metadata": {
        "id": "r6_AfBgGJF3t"
      },
      "source": [
        "muestra_set=muestra_se[0]"
      ],
      "execution_count": null,
      "outputs": []
    },
    {
      "cell_type": "code",
      "metadata": {
        "id": "41erUcDUJM4X"
      },
      "source": [
        "q1_se=muestra_set[:,0][np.arange(0,len(muestra_set[:,0]),35)]\n",
        "q2_se=muestra_set[:,1][np.arange(0,len(muestra_set[:,0]),35)]"
      ],
      "execution_count": null,
      "outputs": []
    },
    {
      "cell_type": "code",
      "metadata": {
        "id": "2onx5kZoJsxj",
        "colab": {
          "base_uri": "https://localhost:8080/",
          "height": 281
        },
        "outputId": "0d38e14e-2a58-4ac0-f001-29edae5522f6"
      },
      "source": [
        "x, y = np.mgrid[-10:10:.3, -10:10:.3]\n",
        "pos = np.dstack((x, y))\n",
        "\n",
        "fig2 = plt.figure()\n",
        "ax2 = fig2.add_subplot(111)\n",
        "ax2.contourf(x, y, mezcla_bivariada(pos), 10)\n",
        "plt.plot(q1_se, q2_se, 'o', c='red', alpha=0.3)\n",
        "plt.ylabel(r'$q_{2}$')\n",
        "plt.xlabel(r'$q_{1}$')\n",
        "\n",
        "#plt.savefig(\"mezclarw2.png\",bbox_inches='tight',dpi=300)\n",
        "#files.download(\"mezclarw2.png\")"
      ],
      "execution_count": null,
      "outputs": [
        {
          "output_type": "display_data",
          "data": {
            "application/javascript": [
              "\n",
              "    async function download(id, filename, size) {\n",
              "      if (!google.colab.kernel.accessAllowed) {\n",
              "        return;\n",
              "      }\n",
              "      const div = document.createElement('div');\n",
              "      const label = document.createElement('label');\n",
              "      label.textContent = `Downloading \"${filename}\": `;\n",
              "      div.appendChild(label);\n",
              "      const progress = document.createElement('progress');\n",
              "      progress.max = size;\n",
              "      div.appendChild(progress);\n",
              "      document.body.appendChild(div);\n",
              "\n",
              "      const buffers = [];\n",
              "      let downloaded = 0;\n",
              "\n",
              "      const channel = await google.colab.kernel.comms.open(id);\n",
              "      // Send a message to notify the kernel that we're ready.\n",
              "      channel.send({})\n",
              "\n",
              "      for await (const message of channel.messages) {\n",
              "        // Send a message to notify the kernel that we're ready.\n",
              "        channel.send({})\n",
              "        if (message.buffers) {\n",
              "          for (const buffer of message.buffers) {\n",
              "            buffers.push(buffer);\n",
              "            downloaded += buffer.byteLength;\n",
              "            progress.value = downloaded;\n",
              "          }\n",
              "        }\n",
              "      }\n",
              "      const blob = new Blob(buffers, {type: 'application/binary'});\n",
              "      const a = document.createElement('a');\n",
              "      a.href = window.URL.createObjectURL(blob);\n",
              "      a.download = filename;\n",
              "      div.appendChild(a);\n",
              "      a.click();\n",
              "      div.remove();\n",
              "    }\n",
              "  "
            ],
            "text/plain": [
              "<IPython.core.display.Javascript object>"
            ]
          },
          "metadata": {
            "tags": []
          }
        },
        {
          "output_type": "display_data",
          "data": {
            "application/javascript": [
              "download(\"download_e3e53226-fb94-4be7-b214-538f09cef9af\", \"mezclarw2.png\", 134908)"
            ],
            "text/plain": [
              "<IPython.core.display.Javascript object>"
            ]
          },
          "metadata": {
            "tags": []
          }
        },
        {
          "output_type": "display_data",
          "data": {
            "image/png": "[encoded data removed]",
            "text/plain": [
              "<Figure size 432x288 with 1 Axes>"
            ]
          },
          "metadata": {
            "tags": [],
            "needs_background": "light"
          }
        }
      ]
    },
    {
      "cell_type": "code",
      "metadata": {
        "id": "e3EDFNCbjCab",
        "colab": {
          "base_uri": "https://localhost:8080/",
          "height": 298
        },
        "outputId": "16db09e4-a7af-4991-d0e5-5ee57db82e88"
      },
      "source": [
        "x, y = np.mgrid[-8:8:.3, -8:8:.3]\n",
        "pos = np.dstack((x, y))\n",
        "\n",
        "fig2 = plt.figure()\n",
        "ax2 = fig2.add_subplot(111)\n",
        "ax2.contourf(x, y, mezcla_bivariada(pos), 10)\n",
        "plt.ylabel(r'$q_{2}$')\n",
        "plt.xlabel(r'$q_{1}$')\n",
        "\n",
        "#plt.savefig(\"mezcla.png\",bbox_inches='tight',dpi=300)\n",
        "#files.download(\"mezcla.png\")\n"
      ],
      "execution_count": null,
      "outputs": [
        {
          "output_type": "execute_result",
          "data": {
            "text/plain": [
              "Text(0.5, 0, '$q_{1}$')"
            ]
          },
          "metadata": {
            "tags": []
          },
          "execution_count": 46
        },
        {
          "output_type": "display_data",
          "data": {
            "image/png": "[encoded data removed]",
            "text/plain": [
              "<Figure size 432x288 with 1 Axes>"
            ]
          },
          "metadata": {
            "tags": [],
            "needs_background": "light"
          }
        }
      ]
    }
  ]
}