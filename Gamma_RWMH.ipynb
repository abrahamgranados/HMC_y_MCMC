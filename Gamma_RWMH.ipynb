{
  "nbformat": 4,
  "nbformat_minor": 0,
  "metadata": {
    "colab": {
      "name": "SIVA_RWMHGAMA.ipynb",
      "provenance": []
    },
    "kernelspec": {
      "name": "python3",
      "display_name": "Python 3"
    }
  },
  "cells": [
    {
      "cell_type": "code",
      "metadata": {
        "id": "szibAGuHi5EZ"
      },
      "source": [
        "import numpy as np\n",
        "import random\n",
        "import math\n",
        "import matplotlib.pyplot as plt\n",
        "import seaborn as sns\n",
        "import scipy.stats as ss\n",
        "from matplotlib import pyplot\n",
        "from statsmodels.graphics.tsaplots import plot_acf\n",
        "from google.colab import files\n",
        "import time"
      ],
      "execution_count": null,
      "outputs": []
    },
    {
      "cell_type": "markdown",
      "metadata": {
        "id": "WwJGhPLtp60X"
      },
      "source": [
        "##Algoritmo RWMH para simular de la distribución Gama(5,1)"
      ]
    },
    {
      "cell_type": "code",
      "metadata": {
        "id": "STzzwFk0jLSi"
      },
      "source": [
        "def RWMH_gama51(p_ini, sigma, N):   #RWMH para simular de la distribución gamma(5,1)\n",
        "  rechazos=0     #vector de muestras\n",
        "  muestra=p_ini        #primera posición, nuestro punto inicial\n",
        "  for i in range(1, N):           \n",
        "    propuesta=p_ini+np.random.normal(0, sigma, p_ini.shape[1])    #el valor propuesto \n",
        "    razon = min((propuesta/p_ini)**4*np.exp(p_ini-propuesta),1)\n",
        "    if random.uniform(0, 1) < razon and propuesta>0:\n",
        "      actual=propuesta\n",
        "      p_ini=propuesta\n",
        "      \n",
        "    else:\n",
        "      actual=p_ini\n",
        "      rechazos=rechazos+1\n",
        "    muestra=np.r_[muestra,actual] #uno es el punto inicial y en la ultima posicion esta el porcentaje\n",
        "  return(muestra, rechazos)    \n"
      ],
      "execution_count": null,
      "outputs": []
    },
    {
      "cell_type": "code",
      "metadata": {
        "id": "lbe1rcNAjY47",
        "colab": {
          "base_uri": "https://localhost:8080/"
        },
        "outputId": "8fa378bb-4ccb-4d63-81a2-4252bb906701"
      },
      "source": [
        "np.random.seed(0)\n",
        "random.seed(0)\n",
        "t0 = time.time()\n",
        "simulacion=RWMH_gama51(np.array([[500]]),5,100000)  #generamos las simulaciones\n",
        "t1 = time.time()\n",
        "print(\"--- %s segundos ---\" % (t1- t0))"
      ],
      "execution_count": null,
      "outputs": [
        {
          "output_type": "stream",
          "text": [
            "--- 10.535802125930786 segundos ---\n"
          ],
          "name": "stdout"
        }
      ]
    },
    {
      "cell_type": "markdown",
      "metadata": {
        "id": "-RNwCQgUqPgE"
      },
      "source": [
        "##Tasa de aceptación de la simulación"
      ]
    },
    {
      "cell_type": "code",
      "metadata": {
        "colab": {
          "base_uri": "https://localhost:8080/"
        },
        "id": "cLgN51CvtUyn",
        "outputId": "6084cf86-c7da-459c-d954-1834aecb0eeb"
      },
      "source": [
        "cadena_bruta= simulacion[0]\r\n",
        "tasa_rechazo= simulacion[1]/(cadena_bruta.shape[0]-1) \r\n",
        "tasa_aceptacion=1-tasa_rechazo\r\n",
        "tasa_aceptacion  #porcentaje de estados aceptados"
      ],
      "execution_count": null,
      "outputs": [
        {
          "output_type": "execute_result",
          "data": {
            "text/plain": [
              "0.4402744027440274"
            ]
          },
          "metadata": {
            "tags": []
          },
          "execution_count": 96
        }
      ]
    },
    {
      "cell_type": "markdown",
      "metadata": {
        "id": "Ixvf2b9oqVuV"
      },
      "source": [
        "## Burnin de manera gráfica"
      ]
    },
    {
      "cell_type": "code",
      "metadata": {
        "id": "ApbixbKlqkqe"
      },
      "source": [
        "def log_densidades_gamma_r(muest):    #log probabilidades\n",
        "  return(np.log(1/24)+4*np.log(muest)-muest)\n",
        "\n",
        "vector_verosim2 = np.zeros(400)\n",
        "for i in range(0,400):\n",
        "  vector_verosim2[i]=log_densidades_gamma_r(cadena_bruta[i])\n"
      ],
      "execution_count": null,
      "outputs": []
    },
    {
      "cell_type": "code",
      "metadata": {
        "id": "twBubsAqqkqo",
        "colab": {
          "base_uri": "https://localhost:8080/",
          "height": 283
        },
        "outputId": "9c58c346-d3f5-446c-8d2f-b4fed95c0051"
      },
      "source": [
        "burnin=280\n",
        "plt.grid(linestyle='dashed')\n",
        "plt.plot(vector_verosim2)\n",
        "plt.ylabel('$log(X_{t})$')\n",
        "plt.xlabel('$X_{t}$')\n",
        "plt.axvline(burnin,-100,100,  color=\"red\",  linestyle='dashed')\n",
        "#plt.savefig(\"burnrwmh1.png\",bbox_inches='tight',dpi=300)\n",
        "#files.download(\"burnrwmh1.png\")"
      ],
      "execution_count": null,
      "outputs": [
        {
          "output_type": "display_data",
          "data": {
            "application/javascript": [
              "\n",
              "    async function download(id, filename, size) {\n",
              "      if (!google.colab.kernel.accessAllowed) {\n",
              "        return;\n",
              "      }\n",
              "      const div = document.createElement('div');\n",
              "      const label = document.createElement('label');\n",
              "      label.textContent = `Downloading \"${filename}\": `;\n",
              "      div.appendChild(label);\n",
              "      const progress = document.createElement('progress');\n",
              "      progress.max = size;\n",
              "      div.appendChild(progress);\n",
              "      document.body.appendChild(div);\n",
              "\n",
              "      const buffers = [];\n",
              "      let downloaded = 0;\n",
              "\n",
              "      const channel = await google.colab.kernel.comms.open(id);\n",
              "      // Send a message to notify the kernel that we're ready.\n",
              "      channel.send({})\n",
              "\n",
              "      for await (const message of channel.messages) {\n",
              "        // Send a message to notify the kernel that we're ready.\n",
              "        channel.send({})\n",
              "        if (message.buffers) {\n",
              "          for (const buffer of message.buffers) {\n",
              "            buffers.push(buffer);\n",
              "            downloaded += buffer.byteLength;\n",
              "            progress.value = downloaded;\n",
              "          }\n",
              "        }\n",
              "      }\n",
              "      const blob = new Blob(buffers, {type: 'application/binary'});\n",
              "      const a = document.createElement('a');\n",
              "      a.href = window.URL.createObjectURL(blob);\n",
              "      a.download = filename;\n",
              "      div.appendChild(a);\n",
              "      a.click();\n",
              "      div.remove();\n",
              "    }\n",
              "  "
            ],
            "text/plain": [
              "<IPython.core.display.Javascript object>"
            ]
          },
          "metadata": {
            "tags": []
          }
        },
        {
          "output_type": "display_data",
          "data": {
            "application/javascript": [
              "download(\"download_8fc0cf8e-712a-49c0-a42f-4510aad0900a\", \"burnrwmh1.png\", 77891)"
            ],
            "text/plain": [
              "<IPython.core.display.Javascript object>"
            ]
          },
          "metadata": {
            "tags": []
          }
        },
        {
          "output_type": "display_data",
          "data": {
            "image/png": "[encoded data removed]",
            "text/plain": [
              "<Figure size 432x288 with 1 Axes>"
            ]
          },
          "metadata": {
            "tags": [],
            "needs_background": "light"
          }
        }
      ]
    },
    {
      "cell_type": "markdown",
      "metadata": {
        "id": "uu3N0qMXqk0w"
      },
      "source": [
        "##Burnin con distancias de Hellinger "
      ]
    },
    {
      "cell_type": "code",
      "metadata": {
        "id": "hv909OFVBGC7"
      },
      "source": [
        "%load_ext rpy2.ipython"
      ],
      "execution_count": null,
      "outputs": []
    },
    {
      "cell_type": "code",
      "metadata": {
        "id": "BiIbrLkPuhSw"
      },
      "source": [
        "%%R\r\n",
        "install.packages(\"LaplacesDemon\") #Cargamos la paqueteria \r\n",
        "library(\"LaplacesDemon\")\r\n"
      ],
      "execution_count": null,
      "outputs": []
    },
    {
      "cell_type": "code",
      "metadata": {
        "id": "I3j3dJiGrNE1"
      },
      "source": [
        "%R -i cadena_bruta #pasamos la cadena a R\r\n"
      ],
      "execution_count": null,
      "outputs": []
    },
    {
      "cell_type": "code",
      "metadata": {
        "colab": {
          "base_uri": "https://localhost:8080/"
        },
        "id": "4O-sKCjouRen",
        "outputId": "d47ca027-0de8-42ad-d579-422c618a2dc7"
      },
      "source": [
        "%%R\r\n",
        "\r\n",
        "burn1<-BMK.Diagnostic(cadena_bruta, 200) #hacemos  200 subconjuntos\r\n",
        "burnin_DH=as.numeric(c(0,colnames(burn1))[which.max(c(0,which(burn1>.5)))])\r\n",
        "#diferencia mayor a 0.5\r\n",
        "burnin_DH    #burnin propuesto con distancias de Hellinger\r\n"
      ],
      "execution_count": null,
      "outputs": [
        {
          "output_type": "stream",
          "text": [
            "[1] 500\n"
          ],
          "name": "stdout"
        }
      ]
    },
    {
      "cell_type": "markdown",
      "metadata": {
        "id": "oPvWLDS2ceDC"
      },
      "source": [
        "utilizaremos el burnin obtenido del método grafico "
      ]
    },
    {
      "cell_type": "code",
      "metadata": {
        "id": "Bz6m13YbvlSv",
        "colab": {
          "base_uri": "https://localhost:8080/",
          "height": 278
        },
        "outputId": "fb2b13b1-d727-4e82-eb34-9e2c74038b8a"
      },
      "source": [
        "cadena_sb=cadena_bruta[279:99999]   #quitamos las primeras 280 muestras\r\n",
        "fig=plot_acf(cadena_sb, lags=50,alpha=0.05)  #autocorrelaciones \r\n",
        "plt.grid(linestyle='dashed')\r\n",
        "plt.title(\"\")\r\n",
        "plt.ylabel('Autocorrelación')\r\n",
        "plt.xlabel('Lag')\r\n",
        "pyplot.show()\r\n",
        "fig.savefig(\"autocor_1.png\",bbox_inches='tight',dpi=300)\r\n",
        "files.download(\"autocor_1.png\") "
      ],
      "execution_count": null,
      "outputs": [
        {
          "output_type": "display_data",
          "data": {
            "image/png": "[encoded data removed]",
            "text/plain": [
              "<Figure size 432x288 with 1 Axes>"
            ]
          },
          "metadata": {
            "tags": [],
            "needs_background": "light"
          }
        },
        {
          "output_type": "display_data",
          "data": {
            "application/javascript": [
              "\n",
              "    async function download(id, filename, size) {\n",
              "      if (!google.colab.kernel.accessAllowed) {\n",
              "        return;\n",
              "      }\n",
              "      const div = document.createElement('div');\n",
              "      const label = document.createElement('label');\n",
              "      label.textContent = `Downloading \"${filename}\": `;\n",
              "      div.appendChild(label);\n",
              "      const progress = document.createElement('progress');\n",
              "      progress.max = size;\n",
              "      div.appendChild(progress);\n",
              "      document.body.appendChild(div);\n",
              "\n",
              "      const buffers = [];\n",
              "      let downloaded = 0;\n",
              "\n",
              "      const channel = await google.colab.kernel.comms.open(id);\n",
              "      // Send a message to notify the kernel that we're ready.\n",
              "      channel.send({})\n",
              "\n",
              "      for await (const message of channel.messages) {\n",
              "        // Send a message to notify the kernel that we're ready.\n",
              "        channel.send({})\n",
              "        if (message.buffers) {\n",
              "          for (const buffer of message.buffers) {\n",
              "            buffers.push(buffer);\n",
              "            downloaded += buffer.byteLength;\n",
              "            progress.value = downloaded;\n",
              "          }\n",
              "        }\n",
              "      }\n",
              "      const blob = new Blob(buffers, {type: 'application/binary'});\n",
              "      const a = document.createElement('a');\n",
              "      a.href = window.URL.createObjectURL(blob);\n",
              "      a.download = filename;\n",
              "      div.appendChild(a);\n",
              "      a.click();\n",
              "      div.remove();\n",
              "    }\n",
              "  "
            ],
            "text/plain": [
              "<IPython.core.display.Javascript object>"
            ]
          },
          "metadata": {
            "tags": []
          }
        },
        {
          "output_type": "display_data",
          "data": {
            "application/javascript": [
              "download(\"download_dc757e55-3f19-4bc9-9436-5ab2f6fd3ef4\", \"autocor_1.png\", 63376)"
            ],
            "text/plain": [
              "<IPython.core.display.Javascript object>"
            ]
          },
          "metadata": {
            "tags": []
          }
        }
      ]
    },
    {
      "cell_type": "markdown",
      "metadata": {
        "id": "DaAlt4iAx_Kx"
      },
      "source": [
        "##Lag con IAT"
      ]
    },
    {
      "cell_type": "code",
      "metadata": {
        "id": "xeIct4gTxsCq"
      },
      "source": [
        "%%R\r\n",
        "install.packages(\"Rtwalk\")\r\n",
        "library(\"Rtwalk\")\r\n"
      ],
      "execution_count": null,
      "outputs": []
    },
    {
      "cell_type": "code",
      "metadata": {
        "id": "2nAuJX5xySlz",
        "colab": {
          "base_uri": "https://localhost:8080/"
        },
        "outputId": "f742aafc-e638-4ca3-abe0-80d58bbe2e7d"
      },
      "source": [
        "%R -i cadena_sb\r\n",
        "%R iat1=IAT(cadena_sb)\r\n",
        "%R  iat1"
      ],
      "execution_count": null,
      "outputs": [
        {
          "output_type": "execute_result",
          "data": {
            "text/plain": [
              "array([5.25739801])"
            ]
          },
          "metadata": {
            "tags": []
          },
          "execution_count": 86
        }
      ]
    },
    {
      "cell_type": "code",
      "metadata": {
        "id": "Doe7uFr_y7VU",
        "colab": {
          "base_uri": "https://localhost:8080/"
        },
        "outputId": "073f9e00-7aeb-4b6d-86d3-fcc665c5c65a"
      },
      "source": [
        "lag = %R iat1\r\n",
        "lag= math.ceil(lag) #redondeamos hacia arriba\r\n",
        "lag"
      ],
      "execution_count": null,
      "outputs": [
        {
          "output_type": "execute_result",
          "data": {
            "text/plain": [
              "6"
            ]
          },
          "metadata": {
            "tags": []
          },
          "execution_count": 87
        }
      ]
    },
    {
      "cell_type": "code",
      "metadata": {
        "id": "gxx8lB7lzfH6"
      },
      "source": [
        "cadena_sl= cadena_sb[np.arange(0,len(cadena_sb),lag)]  #cadena sin lag\r\n"
      ],
      "execution_count": null,
      "outputs": []
    },
    {
      "cell_type": "markdown",
      "metadata": {
        "id": "QjJ2UVQNG0kw"
      },
      "source": [
        "##Muestra total"
      ]
    },
    {
      "cell_type": "code",
      "metadata": {
        "colab": {
          "base_uri": "https://localhost:8080/"
        },
        "id": "7U29jenvGzin",
        "outputId": "a3363d07-3414-4554-9b27-871395892a5e"
      },
      "source": [
        "len(cadena_sl)"
      ],
      "execution_count": null,
      "outputs": [
        {
          "output_type": "execute_result",
          "data": {
            "text/plain": [
              "16620"
            ]
          },
          "metadata": {
            "tags": []
          },
          "execution_count": 90
        }
      ]
    },
    {
      "cell_type": "markdown",
      "metadata": {
        "id": "JZjQ48DyH6-g"
      },
      "source": [
        "##Densidad"
      ]
    },
    {
      "cell_type": "code",
      "metadata": {
        "colab": {
          "base_uri": "https://localhost:8080/",
          "height": 301
        },
        "id": "uiw1hEFBFZjJ",
        "outputId": "89e5f6d8-8741-49ca-eaf2-587becae3b25"
      },
      "source": [
        "\r\n",
        "x=np.linspace(0,18,200)\r\n",
        "x_pdf=ss.gamma.pdf(x,a=5,scale=1)    #parametrizada, alfa = 5, betta=10\r\n",
        "plt.plot(x,x_pdf, color=\"red\",  linewidth=3)\r\n",
        "\r\n",
        "plt.hist(cadena_sl, bins = int(40), density=True, color='teal')\r\n",
        "#plt.title(\" \")\r\n",
        "plt.grid(linestyle='dashed')\r\n",
        "plt.legend(('Teórica', 'Simulada'), bbox_to_anchor=(1.05,0.8), loc=3, borderaxespad=0, prop={'size':9})\r\n",
        "plt.ylabel('Densidad')\r\n",
        "plt.xlabel('$X_{t}$')\r\n",
        "\r\n",
        "#plt.savefig(\"densidadgama1.png\",bbox_inches='tight',dpi=300)\r\n",
        "#files.download(\"densidadgama1.png\")"
      ],
      "execution_count": null,
      "outputs": [
        {
          "output_type": "execute_result",
          "data": {
            "text/plain": [
              "Text(0.5, 0, '$X_{t}$')"
            ]
          },
          "metadata": {
            "tags": []
          },
          "execution_count": 91
        },
        {
          "output_type": "display_data",
          "data": {
            "image/png": "[encoded data removed]",
            "text/plain": [
              "<Figure size 432x288 with 1 Axes>"
            ]
          },
          "metadata": {
            "tags": [],
            "needs_background": "light"
          }
        }
      ]
    }
  ]
}