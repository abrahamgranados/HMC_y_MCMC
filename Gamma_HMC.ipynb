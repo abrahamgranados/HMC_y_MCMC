{
  "nbformat": 4,
  "nbformat_minor": 0,
  "metadata": {
    "colab": {
      "name": "SIVA_Gama_HMC.ipynb",
      "provenance": []
    },
    "kernelspec": {
      "name": "python3",
      "display_name": "Python 3"
    }
  },
  "cells": [
    {
      "cell_type": "code",
      "metadata": {
        "id": "k8JEs2Px5Zzo",
        "colab": {
          "base_uri": "https://localhost:8080/"
        },
        "outputId": "5b49573e-553c-44a2-89c2-568f2e4ef517"
      },
      "source": [
        "#Hamiltonian\n",
        "import numpy as np\n",
        "import random\n",
        "import math\n",
        "import matplotlib.pyplot as plt\n",
        "import seaborn as sns\n",
        "import scipy.stats as ss\n",
        "from matplotlib import pyplot\n",
        "from statsmodels.graphics.tsaplots import plot_acf\n",
        "from google.colab import files\n",
        "import time"
      ],
      "execution_count": null,
      "outputs": [
        {
          "output_type": "stream",
          "text": [
            "/usr/local/lib/python3.6/dist-packages/statsmodels/tools/_testing.py:19: FutureWarning: pandas.util.testing is deprecated. Use the functions in the public API at pandas.testing instead.\n",
            "  import pandas.util.testing as tm\n"
          ],
          "name": "stderr"
        }
      ]
    },
    {
      "cell_type": "code",
      "metadata": {
        "id": "Dp1G2r3xNfKb"
      },
      "source": [
        "#U Devuelve la energia potencial de U, dado un valor de Q\n",
        "def U(q):\n",
        "  if q>0:\n",
        "    return(-4*np.log(q)+np.log(24)+q) \n",
        "  else:\n",
        "    return(0)\n",
        "       #El logaritmo de la densidad que queremos simular, U(q) hacer referencia a la funcion de energía potencial \n",
        "\n",
        "#Gradiente de U dado q\n",
        "def grad_U(q):   #El gradiente de la función U, que se utilizará para resolver el sistema de ecuaciones dado por las dinámicas hamiltonianas\n",
        "  return(-(4/q)+1)"
      ],
      "execution_count": null,
      "outputs": []
    },
    {
      "cell_type": "code",
      "metadata": {
        "id": "s4G6DX4Gmfi9"
      },
      "source": [
        "def HMCMC(U, grad_U, epsilon, L, inicial_q, N):\n",
        "  #En el primer paso nuevos valores son  escogidos para el momentum, p, aleatoriamente de una distribución normal, y son independientes de la posición q. \n",
        "  mu, sigma = 0, 1 # Parametros de la normal\n",
        "  \n",
        "  q = inicial_q #El punto de inicio del algoritmo\n",
        "  cadena=q\n",
        "  rechazos=0\n",
        "\n",
        "  for i in range(1,N): \n",
        "    p = np.array([np.random.normal(mu, sigma, q.shape[1])])  #Asignamos el nuevo valor de p, independiente de q\n",
        "\n",
        "    actual_p = p  \n",
        "  #  Empieza el algoritmo de Leap Frog para resolver el sistema de ecuaciones diferenciales dada por la dinamica de H \n",
        "    p=p- epsilon * grad_U(q) / 2\n",
        "    for i in range(1,L+1):\n",
        "      q= q+epsilon*p\n",
        "  #paso completo para el momento excepto en la ultima\n",
        "      if(i!=L):\n",
        "        p=p-epsilon*grad_U(q)\n",
        "\n",
        "    p= p - epsilon * grad_U(q) / 2   ##termina el algoritmo de Leap Frog \n",
        "  # Hacemos la propuesta simétrica cambiando el signo \n",
        "    p = -p\n",
        "    actual_U = U(inicial_q)\n",
        "    actual_K = np.sum(actual_p**2) / 2\n",
        "    propuesta_U = U(q)\n",
        "    propuesta_K = np.sum(p**2) / 2\n",
        "  # Aceptamos o rechazamos el estado propuesto\n",
        "    if random.uniform(0, 1) < np.exp(actual_U-propuesta_U+actual_K-propuesta_K) and q>0:\n",
        "      cadena=np.r_[cadena,q]\n",
        "      inicial_q=q\n",
        "\n",
        "    else:\n",
        "      cadena=np.r_[cadena,inicial_q]\n",
        "      rechazos=rechazos+1\n",
        "  return(cadena, rechazos)\n"
      ],
      "execution_count": null,
      "outputs": []
    },
    {
      "cell_type": "code",
      "metadata": {
        "id": "sGGuT5F3fbsg",
        "colab": {
          "base_uri": "https://localhost:8080/"
        },
        "outputId": "ec9b27a1-a6c8-4fb3-9e80-2cf80751a1a1"
      },
      "source": [
        "np.random.seed(0)\r\n",
        "random.seed(0)\r\n",
        "t0 = time.time()\r\n",
        "simulacion=HMCMC(U,grad_U,5,6,np.array([[500]]),100000)\r\n",
        "t1 = time.time()\r\n",
        "print(\"--- %s segundos ---\" % (t1- t0))"
      ],
      "execution_count": null,
      "outputs": [
        {
          "output_type": "stream",
          "text": [
            "--- 19.01598834991455 segundos ---\n"
          ],
          "name": "stdout"
        }
      ]
    },
    {
      "cell_type": "markdown",
      "metadata": {
        "id": "UnmxwFyBEZZN"
      },
      "source": [
        "##Tasa de rechazo"
      ]
    },
    {
      "cell_type": "code",
      "metadata": {
        "colab": {
          "base_uri": "https://localhost:8080/"
        },
        "id": "_XHOZDdlzuv7",
        "outputId": "96038ae2-b809-4a32-f0a4-1662a13dcfc1"
      },
      "source": [
        "cadena_bruta= simulacion[0]\r\n",
        "tasa_rechazo= simulacion[1]/(cadena_bruta.shape[0]-1)\r\n",
        "tasa_rechazo"
      ],
      "execution_count": null,
      "outputs": [
        {
          "output_type": "execute_result",
          "data": {
            "text/plain": [
              "0.999989999899999"
            ]
          },
          "metadata": {
            "tags": []
          },
          "execution_count": 8
        }
      ]
    },
    {
      "cell_type": "markdown",
      "metadata": {
        "id": "FOeY8HoGxjl6"
      },
      "source": [
        "##EJEMPLO 2"
      ]
    },
    {
      "cell_type": "code",
      "metadata": {
        "id": "ApbixbKlqkqe",
        "colab": {
          "base_uri": "https://localhost:8080/"
        },
        "outputId": "e5d44bf1-1dcc-4843-9393-685564f71fb4"
      },
      "source": [
        "\n",
        "np.random.seed(0)\n",
        "random.seed(0)\n",
        "t0 = time.time()\n",
        "\n",
        "simulacion1=HMCMC(U,grad_U,0.09,47,np.array([[500]]),100000)\n",
        "t1 = time.time()\n",
        "print(\"--- %s segundos ---\" % (t1- t0)) #tiempo de ejecucion\n"
      ],
      "execution_count": null,
      "outputs": [
        {
          "output_type": "stream",
          "text": [
            "--- 44.377501249313354 segundos ---\n"
          ],
          "name": "stdout"
        }
      ]
    },
    {
      "cell_type": "code",
      "metadata": {
        "colab": {
          "base_uri": "https://localhost:8080/"
        },
        "id": "2h83wrKfkitH",
        "outputId": "f3e0d44f-7880-442e-ec30-44cc7e39ac48"
      },
      "source": [
        "cadena_bruta1= simulacion1[0]\r\n",
        "tasa_rechazo1= simulacion1[1]/(cadena_bruta1.shape[0]-1)\r\n",
        "1-tasa_rechazo1  #tasa de aceptacion"
      ],
      "execution_count": null,
      "outputs": [
        {
          "output_type": "execute_result",
          "data": {
            "text/plain": [
              "0.999639996399964"
            ]
          },
          "metadata": {
            "tags": []
          },
          "execution_count": 10
        }
      ]
    },
    {
      "cell_type": "markdown",
      "metadata": {
        "id": "Ixvf2b9oqVuV"
      },
      "source": [
        "## Burnin de manera gráfica"
      ]
    },
    {
      "cell_type": "code",
      "metadata": {
        "id": "DvALsAzkKgrj"
      },
      "source": [
        "def log_densidades_gamma_r(muest):    #log probabilidades\n",
        "  return(np.log(1/24)+4*np.log(muest)-muest)\n",
        "\n",
        "vector_verosim2 = np.zeros(100)\n",
        "for i in range(0,100):\n",
        "  vector_verosim2[i]=log_densidades_gamma_r(cadena_bruta1[i])\n"
      ],
      "execution_count": null,
      "outputs": []
    },
    {
      "cell_type": "code",
      "metadata": {
        "id": "twBubsAqqkqo",
        "colab": {
          "base_uri": "https://localhost:8080/",
          "height": 283
        },
        "outputId": "1caf6c8a-1717-4575-c1c8-0488d6d6b33d"
      },
      "source": [
        "burnin=64\n",
        "plt.grid(linestyle='dashed')\n",
        "plt.plot(vector_verosim2)\n",
        "plt.ylabel('$log(X_{t})$')\n",
        "plt.xlabel('$X_{t}$')\n",
        "plt.axvline(burnin,-100,100,  color=\"red\",  linestyle='dashed')\n",
        "#plt.savefig(\"burnhmc1.png\",bbox_inches='tight',dpi=300)\n",
        "#files.download(\"burnhmc1.png\")"
      ],
      "execution_count": null,
      "outputs": [
        {
          "output_type": "display_data",
          "data": {
            "application/javascript": [
              "\n",
              "    async function download(id, filename, size) {\n",
              "      if (!google.colab.kernel.accessAllowed) {\n",
              "        return;\n",
              "      }\n",
              "      const div = document.createElement('div');\n",
              "      const label = document.createElement('label');\n",
              "      label.textContent = `Downloading \"${filename}\": `;\n",
              "      div.appendChild(label);\n",
              "      const progress = document.createElement('progress');\n",
              "      progress.max = size;\n",
              "      div.appendChild(progress);\n",
              "      document.body.appendChild(div);\n",
              "\n",
              "      const buffers = [];\n",
              "      let downloaded = 0;\n",
              "\n",
              "      const channel = await google.colab.kernel.comms.open(id);\n",
              "      // Send a message to notify the kernel that we're ready.\n",
              "      channel.send({})\n",
              "\n",
              "      for await (const message of channel.messages) {\n",
              "        // Send a message to notify the kernel that we're ready.\n",
              "        channel.send({})\n",
              "        if (message.buffers) {\n",
              "          for (const buffer of message.buffers) {\n",
              "            buffers.push(buffer);\n",
              "            downloaded += buffer.byteLength;\n",
              "            progress.value = downloaded;\n",
              "          }\n",
              "        }\n",
              "      }\n",
              "      const blob = new Blob(buffers, {type: 'application/binary'});\n",
              "      const a = document.createElement('a');\n",
              "      a.href = window.URL.createObjectURL(blob);\n",
              "      a.download = filename;\n",
              "      div.appendChild(a);\n",
              "      a.click();\n",
              "      div.remove();\n",
              "    }\n",
              "  "
            ],
            "text/plain": [
              "<IPython.core.display.Javascript object>"
            ]
          },
          "metadata": {
            "tags": []
          }
        },
        {
          "output_type": "display_data",
          "data": {
            "application/javascript": [
              "download(\"download_7dcdf48a-5c21-4d8c-969f-9e34c52f6656\", \"burnhmc1.png\", 75957)"
            ],
            "text/plain": [
              "<IPython.core.display.Javascript object>"
            ]
          },
          "metadata": {
            "tags": []
          }
        },
        {
          "output_type": "display_data",
          "data": {
            "image/png": "[encoded data removed]",
            "text/plain": [
              "<Figure size 432x288 with 1 Axes>"
            ]
          },
          "metadata": {
            "tags": [],
            "needs_background": "light"
          }
        }
      ]
    },
    {
      "cell_type": "markdown",
      "metadata": {
        "id": "uu3N0qMXqk0w"
      },
      "source": [
        "##Burnin con distancias de Hellinger "
      ]
    },
    {
      "cell_type": "code",
      "metadata": {
        "id": "hv909OFVBGC7"
      },
      "source": [
        "%load_ext rpy2.ipython"
      ],
      "execution_count": null,
      "outputs": []
    },
    {
      "cell_type": "code",
      "metadata": {
        "id": "BiIbrLkPuhSw"
      },
      "source": [
        "%%R\r\n",
        "install.packages(\"LaplacesDemon\") #Cargamos la paqueteria \r\n",
        "library(\"LaplacesDemon\")\r\n"
      ],
      "execution_count": null,
      "outputs": []
    },
    {
      "cell_type": "code",
      "metadata": {
        "id": "I3j3dJiGrNE1"
      },
      "source": [
        "%R -i cadena_bruta1 #pasamos la cadena a R\r\n"
      ],
      "execution_count": null,
      "outputs": []
    },
    {
      "cell_type": "code",
      "metadata": {
        "colab": {
          "base_uri": "https://localhost:8080/"
        },
        "id": "4O-sKCjouRen",
        "outputId": "f203de99-9d9a-432a-9c6a-e4174c5c7d3c"
      },
      "source": [
        "%%R\r\n",
        "\r\n",
        "burn1<-BMK.Diagnostic(cadena_bruta1, 200) #hacemos  200 subconjuntos\r\n",
        "\r\n",
        "\r\n",
        "burnin_DH=as.numeric(c(0,colnames(burn1))[which.max(c(0,which(burn1>.5)))])  #Desechamos los subconjuntos a partir del último con\r\n",
        "#diferencia mayor a 0.5\r\n",
        "burnin_DH"
      ],
      "execution_count": null,
      "outputs": [
        {
          "output_type": "stream",
          "text": [
            "[1] 0\n"
          ],
          "name": "stdout"
        }
      ]
    },
    {
      "cell_type": "markdown",
      "metadata": {
        "id": "oPvWLDS2ceDC"
      },
      "source": [
        "utilizaremos el burnin obtenido del método grafico "
      ]
    },
    {
      "cell_type": "code",
      "metadata": {
        "id": "Bz6m13YbvlSv",
        "colab": {
          "base_uri": "https://localhost:8080/",
          "height": 278
        },
        "outputId": "8d15823f-cc95-4512-c57a-7eca62e86984"
      },
      "source": [
        "cadena_sb=cadena_bruta1[64:99999]   #quitamos las primeras 280 muestras\r\n",
        "fig=plot_acf(cadena_sb, lags=50,alpha=0.05)  #autocorrelaciones \r\n",
        "plt.grid(linestyle='dashed')\r\n",
        "plt.title(\"\")\r\n",
        "plt.ylabel('Autocorrelación')\r\n",
        "plt.xlabel('Lag')\r\n",
        "pyplot.show()\r\n",
        "fig.savefig(\"autocor_1.png\",bbox_inches='tight',dpi=300)\r\n",
        "files.download(\"autocor_1.png\") "
      ],
      "execution_count": null,
      "outputs": [
        {
          "output_type": "display_data",
          "data": {
            "image/png": "[encoded data removed]",
            "text/plain": [
              "<Figure size 432x288 with 1 Axes>"
            ]
          },
          "metadata": {
            "tags": [],
            "needs_background": "light"
          }
        },
        {
          "output_type": "display_data",
          "data": {
            "application/javascript": [
              "\n",
              "    async function download(id, filename, size) {\n",
              "      if (!google.colab.kernel.accessAllowed) {\n",
              "        return;\n",
              "      }\n",
              "      const div = document.createElement('div');\n",
              "      const label = document.createElement('label');\n",
              "      label.textContent = `Downloading \"${filename}\": `;\n",
              "      div.appendChild(label);\n",
              "      const progress = document.createElement('progress');\n",
              "      progress.max = size;\n",
              "      div.appendChild(progress);\n",
              "      document.body.appendChild(div);\n",
              "\n",
              "      const buffers = [];\n",
              "      let downloaded = 0;\n",
              "\n",
              "      const channel = await google.colab.kernel.comms.open(id);\n",
              "      // Send a message to notify the kernel that we're ready.\n",
              "      channel.send({})\n",
              "\n",
              "      for await (const message of channel.messages) {\n",
              "        // Send a message to notify the kernel that we're ready.\n",
              "        channel.send({})\n",
              "        if (message.buffers) {\n",
              "          for (const buffer of message.buffers) {\n",
              "            buffers.push(buffer);\n",
              "            downloaded += buffer.byteLength;\n",
              "            progress.value = downloaded;\n",
              "          }\n",
              "        }\n",
              "      }\n",
              "      const blob = new Blob(buffers, {type: 'application/binary'});\n",
              "      const a = document.createElement('a');\n",
              "      a.href = window.URL.createObjectURL(blob);\n",
              "      a.download = filename;\n",
              "      div.appendChild(a);\n",
              "      a.click();\n",
              "      div.remove();\n",
              "    }\n",
              "  "
            ],
            "text/plain": [
              "<IPython.core.display.Javascript object>"
            ]
          },
          "metadata": {
            "tags": []
          }
        },
        {
          "output_type": "display_data",
          "data": {
            "application/javascript": [
              "download(\"download_05d8c114-73c4-4793-b73f-7dba9d8d3050\", \"autocor_1.png\", 61661)"
            ],
            "text/plain": [
              "<IPython.core.display.Javascript object>"
            ]
          },
          "metadata": {
            "tags": []
          }
        }
      ]
    },
    {
      "cell_type": "markdown",
      "metadata": {
        "id": "DaAlt4iAx_Kx"
      },
      "source": [
        "##Lag con IAT"
      ]
    },
    {
      "cell_type": "code",
      "metadata": {
        "id": "2nAuJX5xySlz",
        "colab": {
          "base_uri": "https://localhost:8080/"
        },
        "outputId": "86d50b9f-c2fb-48ea-ebbd-012505e77754"
      },
      "source": [
        "%R -i cadena_sb\r\n",
        "%R iat1=IAT(cadena_sb)\r\n",
        "%R  iat1"
      ],
      "execution_count": null,
      "outputs": [
        {
          "output_type": "execute_result",
          "data": {
            "text/plain": [
              "array([0.98181874])"
            ]
          },
          "metadata": {
            "tags": []
          },
          "execution_count": 20
        }
      ]
    },
    {
      "cell_type": "code",
      "metadata": {
        "id": "Doe7uFr_y7VU",
        "colab": {
          "base_uri": "https://localhost:8080/"
        },
        "outputId": "5af0e02c-14f6-4305-b15a-b6f4d0bacc5d"
      },
      "source": [
        "lag = %R iat1\r\n",
        "lag= math.ceil(lag) #redondeamos hacia arriba\r\n",
        "lag"
      ],
      "execution_count": null,
      "outputs": [
        {
          "output_type": "execute_result",
          "data": {
            "text/plain": [
              "1"
            ]
          },
          "metadata": {
            "tags": []
          },
          "execution_count": 21
        }
      ]
    },
    {
      "cell_type": "code",
      "metadata": {
        "id": "gxx8lB7lzfH6"
      },
      "source": [
        "cadena_sl= cadena_sb[np.arange(0,len(cadena_sb),lag)]  #cadena sin lag\r\n"
      ],
      "execution_count": null,
      "outputs": []
    },
    {
      "cell_type": "markdown",
      "metadata": {
        "id": "QjJ2UVQNG0kw"
      },
      "source": [
        "##Muestra total"
      ]
    },
    {
      "cell_type": "code",
      "metadata": {
        "colab": {
          "base_uri": "https://localhost:8080/"
        },
        "id": "7U29jenvGzin",
        "outputId": "a208f589-afcd-4e04-f498-ca370f8f6c5f"
      },
      "source": [
        "len(cadena_sl)"
      ],
      "execution_count": null,
      "outputs": [
        {
          "output_type": "execute_result",
          "data": {
            "text/plain": [
              "99935"
            ]
          },
          "metadata": {
            "tags": []
          },
          "execution_count": 23
        }
      ]
    },
    {
      "cell_type": "markdown",
      "metadata": {
        "id": "JZjQ48DyH6-g"
      },
      "source": [
        "##Densidad"
      ]
    },
    {
      "cell_type": "code",
      "metadata": {
        "colab": {
          "base_uri": "https://localhost:8080/",
          "height": 283
        },
        "id": "uiw1hEFBFZjJ",
        "outputId": "1db4caed-d4ce-4db1-b9d5-f0424f6837ee"
      },
      "source": [
        "\r\n",
        "x=np.linspace(0,18,200)\r\n",
        "x_pdf=ss.gamma.pdf(x,a=5,scale=1)    #parametrizada, alfa = 5, betta=10\r\n",
        "plt.plot(x,x_pdf, color=\"red\",  linewidth=3)\r\n",
        "\r\n",
        "plt.hist(cadena_sl, bins = int(40), density=True, color='teal')\r\n",
        "#plt.title(\" \")\r\n",
        "plt.grid(linestyle='dashed')\r\n",
        "plt.legend(('Teórica', 'Simulada'), bbox_to_anchor=(1.05,0.8), loc=3, borderaxespad=0, prop={'size':9})\r\n",
        "plt.ylabel('Densidad')\r\n",
        "plt.xlabel('$X_{t}$')\r\n",
        "\r\n",
        "plt.savefig(\"densidadgamahmc.png\",bbox_inches='tight',dpi=300)\r\n",
        "files.download(\"densidadgamahmc.png\")"
      ],
      "execution_count": null,
      "outputs": [
        {
          "output_type": "display_data",
          "data": {
            "application/javascript": [
              "\n",
              "    async function download(id, filename, size) {\n",
              "      if (!google.colab.kernel.accessAllowed) {\n",
              "        return;\n",
              "      }\n",
              "      const div = document.createElement('div');\n",
              "      const label = document.createElement('label');\n",
              "      label.textContent = `Downloading \"${filename}\": `;\n",
              "      div.appendChild(label);\n",
              "      const progress = document.createElement('progress');\n",
              "      progress.max = size;\n",
              "      div.appendChild(progress);\n",
              "      document.body.appendChild(div);\n",
              "\n",
              "      const buffers = [];\n",
              "      let downloaded = 0;\n",
              "\n",
              "      const channel = await google.colab.kernel.comms.open(id);\n",
              "      // Send a message to notify the kernel that we're ready.\n",
              "      channel.send({})\n",
              "\n",
              "      for await (const message of channel.messages) {\n",
              "        // Send a message to notify the kernel that we're ready.\n",
              "        channel.send({})\n",
              "        if (message.buffers) {\n",
              "          for (const buffer of message.buffers) {\n",
              "            buffers.push(buffer);\n",
              "            downloaded += buffer.byteLength;\n",
              "            progress.value = downloaded;\n",
              "          }\n",
              "        }\n",
              "      }\n",
              "      const blob = new Blob(buffers, {type: 'application/binary'});\n",
              "      const a = document.createElement('a');\n",
              "      a.href = window.URL.createObjectURL(blob);\n",
              "      a.download = filename;\n",
              "      div.appendChild(a);\n",
              "      a.click();\n",
              "      div.remove();\n",
              "    }\n",
              "  "
            ],
            "text/plain": [
              "<IPython.core.display.Javascript object>"
            ]
          },
          "metadata": {
            "tags": []
          }
        },
        {
          "output_type": "display_data",
          "data": {
            "application/javascript": [
              "download(\"download_b100a650-dc7e-426e-a139-66f9e68409ab\", \"densidadgamahmc.png\", 106228)"
            ],
            "text/plain": [
              "<IPython.core.display.Javascript object>"
            ]
          },
          "metadata": {
            "tags": []
          }
        },
        {
          "output_type": "display_data",
          "data": {
            "image/png": "[encoded data removed]",
            "text/plain": [
              "<Figure size 432x288 with 1 Axes>"
            ]
          },
          "metadata": {
            "tags": [],
            "needs_background": "light"
          }
        }
      ]
    }
  ]
}